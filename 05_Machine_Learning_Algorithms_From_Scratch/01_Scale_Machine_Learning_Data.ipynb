{
 "cells": [
  {
   "cell_type": "markdown",
   "id": "f7624a49",
   "metadata": {},
   "source": [
    "## 01 Scale Machine Learning Data"
   ]
  },
  {
   "cell_type": "markdown",
   "id": "715e349d",
   "metadata": {},
   "source": [
    "Many ML algorithms expect data to be scaled consistenly. There are two popular methods `Normalize` and `Standardize` that we should consider when scaling our data, in that tutorial we going to learn them and when to Normalize and Standarize \n",
    "\n",
    "Scale help methods that weight inputs in order to make predictions such as *Regression Models* or *Logistic Regresion* and its practically required in complex methos that combine weighted inputs in compex weights like NN or DL"
   ]
  },
  {
   "cell_type": "markdown",
   "id": "b085d7d4",
   "metadata": {},
   "source": [
    "Dataset: Pima Indians Diabetes Dataset. \n",
    "\n",
    "    This dataset involves the prediction of the onset of diabetes within 5 years. The baseline perfomance on the probel is approximately 65%"
   ]
  },
  {
   "cell_type": "code",
   "execution_count": 20,
   "id": "f8d68ebb",
   "metadata": {},
   "outputs": [],
   "source": [
    "import pandas as pd\n",
    "import os"
   ]
  },
  {
   "cell_type": "code",
   "execution_count": 21,
   "id": "c92990e4",
   "metadata": {},
   "outputs": [
    {
     "data": {
      "text/plain": [
       "\"\\n# Running from my local enviroment.\\n\\ndata = os.environ.get('data') # avoid personal information in the notebook\\ndata_path = data + '\\\\02_ML\\\\01_pima-indians-diabetes.csv'\\ndf_diabetes = pd.read_csv(data_path)\\n\""
      ]
     },
     "execution_count": 21,
     "metadata": {},
     "output_type": "execute_result"
    }
   ],
   "source": [
    "\"\"\"\n",
    "# Running from my local enviroment.\n",
    "\n",
    "data = os.environ.get('data') # avoid personal information in the notebook\n",
    "data_path = data + '\\\\02_ML\\\\01_pima-indians-diabetes.csv'\n",
    "df_diabetes = pd.read_csv(data_path)\n",
    "\"\"\"\n"
   ]
  },
  {
   "cell_type": "markdown",
   "id": "6637a8ae",
   "metadata": {},
   "source": [
    "### Normalize Data\n",
    "\n",
    "Normalization in a ML context refer to rescaling an input variable to the range between 0 and 1. Normalization requires that you know the minimun and the maximu values of each attribute. (how its affected for the outliers ?)\n"
   ]
  },
  {
   "cell_type": "code",
   "execution_count": 22,
   "id": "437bec7b",
   "metadata": {},
   "outputs": [],
   "source": [
    "def dataset_minmax(dataset):\n",
    "    minmax = []\n",
    "    for i in range(len(dataset[0])):\n",
    "        col_values = [row[i] for row in dataset]\n",
    "        #print(col_values)\n",
    "        value_min = min(col_values)\n",
    "        value_max = max(col_values)\n",
    "        minmax.append([value_min, value_max])\n",
    "    return minmax"
   ]
  },
  {
   "cell_type": "code",
   "execution_count": 23,
   "id": "a26f0526",
   "metadata": {},
   "outputs": [
    {
     "name": "stdout",
     "output_type": "stream",
     "text": [
      "[[50, 30], [20, 90], [6, 39]]\n"
     ]
    },
    {
     "data": {
      "text/html": [
       "<div>\n",
       "<style scoped>\n",
       "    .dataframe tbody tr th:only-of-type {\n",
       "        vertical-align: middle;\n",
       "    }\n",
       "\n",
       "    .dataframe tbody tr th {\n",
       "        vertical-align: top;\n",
       "    }\n",
       "\n",
       "    .dataframe thead th {\n",
       "        text-align: right;\n",
       "    }\n",
       "</style>\n",
       "<table border=\"1\" class=\"dataframe\">\n",
       "  <thead>\n",
       "    <tr style=\"text-align: right;\">\n",
       "      <th></th>\n",
       "      <th>0</th>\n",
       "      <th>1</th>\n",
       "    </tr>\n",
       "  </thead>\n",
       "  <tbody>\n",
       "    <tr>\n",
       "      <th>0</th>\n",
       "      <td>50</td>\n",
       "      <td>30</td>\n",
       "    </tr>\n",
       "    <tr>\n",
       "      <th>1</th>\n",
       "      <td>20</td>\n",
       "      <td>90</td>\n",
       "    </tr>\n",
       "    <tr>\n",
       "      <th>2</th>\n",
       "      <td>6</td>\n",
       "      <td>39</td>\n",
       "    </tr>\n",
       "  </tbody>\n",
       "</table>\n",
       "</div>"
      ],
      "text/plain": [
       "    0   1\n",
       "0  50  30\n",
       "1  20  90\n",
       "2   6  39"
      ]
     },
     "execution_count": 23,
     "metadata": {},
     "output_type": "execute_result"
    }
   ],
   "source": [
    "# PoC\n",
    "dataset = [[50, 30], [20, 90], [6, 39]]\n",
    "print(dataset)\n",
    "\n",
    "df_test = pd.DataFrame(dataset)\n",
    "df_test.head()"
   ]
  },
  {
   "cell_type": "code",
   "execution_count": 24,
   "id": "212ed687",
   "metadata": {},
   "outputs": [
    {
     "data": {
      "text/plain": [
       "[[6, 50], [30, 90]]"
      ]
     },
     "execution_count": 24,
     "metadata": {},
     "output_type": "execute_result"
    }
   ],
   "source": [
    "dataset_minmax(dataset)"
   ]
  },
  {
   "cell_type": "code",
   "execution_count": 25,
   "id": "19191c4a",
   "metadata": {},
   "outputs": [
    {
     "name": "stdout",
     "output_type": "stream",
     "text": [
      "[[6, 50], [30, 90]]\n"
     ]
    }
   ],
   "source": [
    "print(dataset_minmax(dataset))"
   ]
  },
  {
   "cell_type": "markdown",
   "id": "954c6ac9",
   "metadata": {},
   "source": [
    "Once we have stimate the min and max values we can normalize the data in the range 0 1 the formula will be:  \n",
    "\n",
    "\n",
    "\n",
    "  \n",
    "for example value 100 = in a scale 0 a 100 should be 1 right (because its already the max)\n",
    "\n",
    "but wich values is 43 in a scale from 30 - 60\n",
    "in a salce 0 - 100 would be 0.43 = 43 / 100\n",
    "so the formual would be\n",
    "    43 -0 / 100 -0 where 0 is the min\n",
    "    \n",
    "in our case the min is 30 and the max 60.\n",
    "\n",
    "**Solution:**  \n",
    "\n",
    "   `sacaled_value = (value - min) / (max - min)`"
   ]
  },
  {
   "cell_type": "code",
   "execution_count": 26,
   "id": "65e8c48a",
   "metadata": {},
   "outputs": [],
   "source": [
    "# Rescale dataset columns to the range 0-1\n",
    "def normalize_dataset(dataset, minmax):\n",
    "    for row in dataset:\n",
    "        for i in range(len(row)):\n",
    "            row[i] = (row[i] - minmax[i][0]) / (minmax[i][1] - minmax[i][0])"
   ]
  },
  {
   "cell_type": "code",
   "execution_count": 33,
   "id": "f0558e81",
   "metadata": {},
   "outputs": [
    {
     "data": {
      "text/html": [
       "<div>\n",
       "<style scoped>\n",
       "    .dataframe tbody tr th:only-of-type {\n",
       "        vertical-align: middle;\n",
       "    }\n",
       "\n",
       "    .dataframe tbody tr th {\n",
       "        vertical-align: top;\n",
       "    }\n",
       "\n",
       "    .dataframe thead th {\n",
       "        text-align: right;\n",
       "    }\n",
       "</style>\n",
       "<table border=\"1\" class=\"dataframe\">\n",
       "  <thead>\n",
       "    <tr style=\"text-align: right;\">\n",
       "      <th></th>\n",
       "      <th>1</th>\n",
       "      <th>2</th>\n",
       "      <th>3</th>\n",
       "      <th>4</th>\n",
       "      <th>5</th>\n",
       "      <th>6</th>\n",
       "      <th>7</th>\n",
       "      <th>8</th>\n",
       "    </tr>\n",
       "    <tr>\n",
       "      <th>0</th>\n",
       "      <th></th>\n",
       "      <th></th>\n",
       "      <th></th>\n",
       "      <th></th>\n",
       "      <th></th>\n",
       "      <th></th>\n",
       "      <th></th>\n",
       "      <th></th>\n",
       "    </tr>\n",
       "  </thead>\n",
       "  <tbody>\n",
       "    <tr>\n",
       "      <th>6</th>\n",
       "      <td>148</td>\n",
       "      <td>72</td>\n",
       "      <td>35</td>\n",
       "      <td>0</td>\n",
       "      <td>33.6</td>\n",
       "      <td>0.627</td>\n",
       "      <td>50</td>\n",
       "      <td>1</td>\n",
       "    </tr>\n",
       "    <tr>\n",
       "      <th>1</th>\n",
       "      <td>85</td>\n",
       "      <td>66</td>\n",
       "      <td>29</td>\n",
       "      <td>0</td>\n",
       "      <td>26.6</td>\n",
       "      <td>0.351</td>\n",
       "      <td>31</td>\n",
       "      <td>0</td>\n",
       "    </tr>\n",
       "    <tr>\n",
       "      <th>8</th>\n",
       "      <td>183</td>\n",
       "      <td>64</td>\n",
       "      <td>0</td>\n",
       "      <td>0</td>\n",
       "      <td>23.3</td>\n",
       "      <td>0.672</td>\n",
       "      <td>32</td>\n",
       "      <td>1</td>\n",
       "    </tr>\n",
       "    <tr>\n",
       "      <th>1</th>\n",
       "      <td>89</td>\n",
       "      <td>66</td>\n",
       "      <td>23</td>\n",
       "      <td>94</td>\n",
       "      <td>28.1</td>\n",
       "      <td>0.167</td>\n",
       "      <td>21</td>\n",
       "      <td>0</td>\n",
       "    </tr>\n",
       "    <tr>\n",
       "      <th>0</th>\n",
       "      <td>137</td>\n",
       "      <td>40</td>\n",
       "      <td>35</td>\n",
       "      <td>168</td>\n",
       "      <td>43.1</td>\n",
       "      <td>2.288</td>\n",
       "      <td>33</td>\n",
       "      <td>1</td>\n",
       "    </tr>\n",
       "  </tbody>\n",
       "</table>\n",
       "</div>"
      ],
      "text/plain": [
       "     1   2   3    4     5      6   7  8\n",
       "0                                      \n",
       "6  148  72  35    0  33.6  0.627  50  1\n",
       "1   85  66  29    0  26.6  0.351  31  0\n",
       "8  183  64   0    0  23.3  0.672  32  1\n",
       "1   89  66  23   94  28.1  0.167  21  0\n",
       "0  137  40  35  168  43.1  2.288  33  1"
      ]
     },
     "execution_count": 33,
     "metadata": {},
     "output_type": "execute_result"
    }
   ],
   "source": [
    "\n",
    "url_data_diabetes = 'https://raw.githubusercontent.com/Enrique1987/data/master/02_ML/01_pima-indians-diabetes.csv'\n",
    "df_diabetes = pd.read_csv(url_data_diabetes, index_col=0, header=None)\n",
    "# I prever to runt it via Github cause I cann access anypoint for eample google colab or Kaggle.\n",
    "\n",
    "df_diabetes.head()"
   ]
  },
  {
   "cell_type": "code",
   "execution_count": 35,
   "id": "3319e275",
   "metadata": {},
   "outputs": [],
   "source": [
    "df_values = df_diabetes.values.tolist()\n",
    "df_normalize = df_values.copy()"
   ]
  },
  {
   "cell_type": "code",
   "execution_count": 37,
   "id": "f2158533",
   "metadata": {},
   "outputs": [
    {
     "data": {
      "text/plain": [
       "[0.7437185929648241,\n",
       " 0.5901639344262295,\n",
       " 0.35353535353535354,\n",
       " 0.0,\n",
       " 0.5007451564828614,\n",
       " 0.23441502988898377,\n",
       " 0.48333333333333334,\n",
       " 1.0]"
      ]
     },
     "execution_count": 37,
     "metadata": {},
     "output_type": "execute_result"
    }
   ],
   "source": [
    "df_values[0]"
   ]
  },
  {
   "cell_type": "code",
   "execution_count": 36,
   "id": "4f647b89",
   "metadata": {},
   "outputs": [
    {
     "name": "stdout",
     "output_type": "stream",
     "text": [
      "[0.7437185929648241, 0.5901639344262295, 0.35353535353535354, 0.0, 0.5007451564828614, 0.23441502988898377, 0.48333333333333334, 1.0]\n"
     ]
    }
   ],
   "source": [
    "# Calculate min and max for each column\n",
    "minmax = dataset_minmax(df_normalize)\n",
    "# Normalize columns\n",
    "normalize_dataset(df_normalize, minmax)\n",
    "print(df_normalize[0])\n"
   ]
  },
  {
   "cell_type": "code",
   "execution_count": null,
   "id": "1102ea89",
   "metadata": {},
   "outputs": [],
   "source": []
  },
  {
   "cell_type": "code",
   "execution_count": null,
   "id": "462036d7",
   "metadata": {},
   "outputs": [],
   "source": []
  }
 ],
 "metadata": {
  "kernelspec": {
   "display_name": "Python 3",
   "language": "python",
   "name": "python3"
  },
  "language_info": {
   "codemirror_mode": {
    "name": "ipython",
    "version": 3
   },
   "file_extension": ".py",
   "mimetype": "text/x-python",
   "name": "python",
   "nbconvert_exporter": "python",
   "pygments_lexer": "ipython3",
   "version": "3.8.8"
  }
 },
 "nbformat": 4,
 "nbformat_minor": 5
}
