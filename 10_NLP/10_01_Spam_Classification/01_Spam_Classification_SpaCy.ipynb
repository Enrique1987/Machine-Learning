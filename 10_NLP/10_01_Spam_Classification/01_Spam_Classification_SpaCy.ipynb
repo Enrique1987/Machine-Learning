{
 "cells": [
  {
   "cell_type": "code",
   "execution_count": 17,
   "id": "eca0762a",
   "metadata": {},
   "outputs": [],
   "source": [
    "import pandas as pd\n",
    "import spacy\n",
    "from spacy.util import minibatch\n",
    "from spacy.training.example import Example\n",
    "import random\n",
    "import pickle\n",
    "import os\n",
    "import numpy as np"
   ]
  },
  {
   "cell_type": "code",
   "execution_count": 18,
   "id": "a429a0fb",
   "metadata": {},
   "outputs": [],
   "source": [
    "# from github\n",
    "df_emails = pd.read_csv('https://raw.githubusercontent.com/Enrique1987/data/master/02_ML/03_spam.csv',sep=\",\", encoding='cp1252', usecols=[\"v1\", \"v2\"])\n",
    "df_emails = df_emails.rename(columns={'v1': 'label', 'v2': 'text'})"
   ]
  },
  {
   "cell_type": "code",
   "execution_count": 19,
   "id": "d6409d02",
   "metadata": {},
   "outputs": [
    {
     "data": {
      "text/html": [
       "<div>\n",
       "<style scoped>\n",
       "    .dataframe tbody tr th:only-of-type {\n",
       "        vertical-align: middle;\n",
       "    }\n",
       "\n",
       "    .dataframe tbody tr th {\n",
       "        vertical-align: top;\n",
       "    }\n",
       "\n",
       "    .dataframe thead th {\n",
       "        text-align: right;\n",
       "    }\n",
       "</style>\n",
       "<table border=\"1\" class=\"dataframe\">\n",
       "  <thead>\n",
       "    <tr style=\"text-align: right;\">\n",
       "      <th></th>\n",
       "      <th>label</th>\n",
       "      <th>text</th>\n",
       "    </tr>\n",
       "  </thead>\n",
       "  <tbody>\n",
       "    <tr>\n",
       "      <th>0</th>\n",
       "      <td>ham</td>\n",
       "      <td>Go until jurong point, crazy.. Available only ...</td>\n",
       "    </tr>\n",
       "    <tr>\n",
       "      <th>1</th>\n",
       "      <td>ham</td>\n",
       "      <td>Ok lar... Joking wif u oni...</td>\n",
       "    </tr>\n",
       "    <tr>\n",
       "      <th>2</th>\n",
       "      <td>spam</td>\n",
       "      <td>Free entry in 2 a wkly comp to win FA Cup fina...</td>\n",
       "    </tr>\n",
       "    <tr>\n",
       "      <th>3</th>\n",
       "      <td>ham</td>\n",
       "      <td>U dun say so early hor... U c already then say...</td>\n",
       "    </tr>\n",
       "    <tr>\n",
       "      <th>4</th>\n",
       "      <td>ham</td>\n",
       "      <td>Nah I don't think he goes to usf, he lives aro...</td>\n",
       "    </tr>\n",
       "  </tbody>\n",
       "</table>\n",
       "</div>"
      ],
      "text/plain": [
       "  label                                               text\n",
       "0   ham  Go until jurong point, crazy.. Available only ...\n",
       "1   ham                      Ok lar... Joking wif u oni...\n",
       "2  spam  Free entry in 2 a wkly comp to win FA Cup fina...\n",
       "3   ham  U dun say so early hor... U c already then say...\n",
       "4   ham  Nah I don't think he goes to usf, he lives aro..."
      ]
     },
     "execution_count": 19,
     "metadata": {},
     "output_type": "execute_result"
    }
   ],
   "source": [
    "df_emails.head()"
   ]
  },
  {
   "cell_type": "code",
   "execution_count": 20,
   "id": "5d19c937",
   "metadata": {},
   "outputs": [],
   "source": [
    "# Create an empty model\n",
    "nlp = spacy.blank(\"en\")\n",
    "\n",
    "# Add the TextCategorizer to the empty model\n",
    "textcat = nlp.add_pipe(\"textcat\")"
   ]
  },
  {
   "cell_type": "code",
   "execution_count": 21,
   "id": "3bc52e66",
   "metadata": {},
   "outputs": [
    {
     "name": "stdout",
     "output_type": "stream",
     "text": [
      "['spam', 'ham']\n"
     ]
    }
   ],
   "source": [
    "values_label = list(set(df_emails[\"label\"]))\n",
    "print(values_label)\n",
    "\n",
    "# Add labels to text classifier\n",
    "for label in values_label:\n",
    "    textcat.add_label(label)"
   ]
  },
  {
   "cell_type": "code",
   "execution_count": 22,
   "id": "be6a536d",
   "metadata": {},
   "outputs": [],
   "source": [
    "train_texts = df_emails['text'].values\n",
    "train_labels = [{'cats': {'ham': label == 'ham',\n",
    "                          'spam': label == 'spam'}} for label in df_emails['label']]"
   ]
  },
  {
   "cell_type": "markdown",
   "id": "06c0665d",
   "metadata": {},
   "source": [
    "Then we combine the texts and labels into a single list."
   ]
  },
  {
   "cell_type": "code",
   "execution_count": 23,
   "id": "c7da7a7b",
   "metadata": {},
   "outputs": [],
   "source": [
    "train_data = list(zip(train_texts, train_labels))"
   ]
  },
  {
   "cell_type": "markdown",
   "id": "f1b0eeef",
   "metadata": {},
   "source": [
    "##### 4 - Train the Model\n",
    "\n",
    "Now we are ready to train the model. First, create an optimizer using nlp.begin_training(). spaCy uses this optimizer to update the model. In general it's more efficient to train models in small batches. spaCy provides the minibatch function that returns a generator yielding minibatches for training. Finally, the minibatches are split into texts and labels, then used with nlp.update to update the model's parameters."
   ]
  },
  {
   "cell_type": "code",
   "execution_count": 24,
   "id": "b0f60b5e",
   "metadata": {},
   "outputs": [],
   "source": [
    "spacy.util.fix_random_seed(1)\n",
    "optimizer = nlp.begin_training() # create optimizer\n",
    "\n",
    "# Create the batch generator with batch size = 8\n",
    "batches = minibatch(train_data, size=8)\n",
    "# Iterate through minibatches\n",
    "for batch in batches:\n",
    "    # Each batch is a list of (text, label) \n",
    "    for text, labels in batch:\n",
    "        doc = nlp.make_doc(text)\n",
    "        example = Example.from_dict(doc, labels)\n",
    "        nlp.update([example], sgd=optimizer)"
   ]
  },
  {
   "cell_type": "markdown",
   "id": "121b1b44",
   "metadata": {},
   "source": [
    "This is just one training loop (or epoch) through the data. The model will typically need multiple epochs. Use another loop for more epochs, and optionally re-shuffle the training data at the begining of each loop."
   ]
  },
  {
   "cell_type": "markdown",
   "id": "0417166f",
   "metadata": {},
   "source": [
    "##### 5 - Make Predictions"
   ]
  },
  {
   "cell_type": "code",
   "execution_count": 25,
   "id": "e54b772c",
   "metadata": {},
   "outputs": [
    {
     "name": "stdout",
     "output_type": "stream",
     "text": [
      "['spam', 'ham', 'ham']\n"
     ]
    }
   ],
   "source": [
    "texts = [\"Hi remember to click her if you want to earn a lamborghini and to have 4000$ to enjoy your life \",\n",
    "         \"Hi Enrique, we are planing to have a meeting the people from the School when do you have time ?\",\n",
    "         \"Do you want to be rich?, just clik here and see what happend, remember its for free, it would not cost you anything\"]\n",
    "docs = [nlp.tokenizer(text) for text in texts]\n",
    "    \n",
    "scores = textcat.predict(docs)\n",
    "predicted_labels = scores.argmax(axis=1)\n",
    "print([textcat.labels[label] for label in predicted_labels])"
   ]
  },
  {
   "cell_type": "markdown",
   "id": "92adf007",
   "metadata": {},
   "source": [
    "##### Own conclusions\n",
    "\n",
    "The third message is clearly a spam message that you have not sorted properly. This is because the predictions are based on entirely new data that you have not learned from a similar example. \n",
    "\n",
    "This new test would have to be added, correctly labelled an traing agian."
   ]
  },
  {
   "cell_type": "code",
   "execution_count": 29,
   "id": "09fe088b",
   "metadata": {},
   "outputs": [
    {
     "name": "stdout",
     "output_type": "stream",
     "text": [
      "<class 'numpy.ndarray'>\n",
      "<class 'list'>\n"
     ]
    }
   ],
   "source": [
    "print(type(train_texts))\n",
    "print(type(train_labels))"
   ]
  },
  {
   "cell_type": "code",
   "execution_count": 30,
   "id": "bfb94d0f",
   "metadata": {},
   "outputs": [
    {
     "name": "stdout",
     "output_type": "stream",
     "text": [
      "{'cats': {'ham': True, 'spam': False}}\n"
     ]
    }
   ],
   "source": [
    "print(train_labels[0])"
   ]
  },
  {
   "cell_type": "code",
   "execution_count": 32,
   "id": "1fcb5969",
   "metadata": {},
   "outputs": [],
   "source": [
    "new_labeled_Data = [\"spam\", \"ham\", \"spam\"]\n",
    "for label in new_labeled_Data:\n",
    "    train_labels.append({'cats': {'ham': label == 'ham',\n",
    "                          'spam': label == 'spam'}})"
   ]
  },
  {
   "cell_type": "code",
   "execution_count": 28,
   "id": "7a07ca18",
   "metadata": {},
   "outputs": [],
   "source": [
    "\n",
    "for text in texts:\n",
    "    np.append(train_texts, text)"
   ]
  },
  {
   "cell_type": "markdown",
   "id": "846d4759",
   "metadata": {},
   "source": [
    "##### 6 - Re training"
   ]
  },
  {
   "cell_type": "code",
   "execution_count": 33,
   "id": "05c16a87",
   "metadata": {},
   "outputs": [],
   "source": [
    "\n",
    "spacy.util.fix_random_seed(1)\n",
    "optimizer = nlp.begin_training() # create optimizer\n",
    "\n",
    "# Create the batch generator with batch size = 8\n",
    "batches = minibatch(train_data, size=8)\n",
    "# Iterate through minibatches\n",
    "for batch in batches:\n",
    "    # Each batch is a list of (text, label) \n",
    "    for text, labels in batch:\n",
    "        doc = nlp.make_doc(text)\n",
    "        example = Example.from_dict(doc, labels)\n",
    "        nlp.update([example], sgd=optimizer)"
   ]
  },
  {
   "cell_type": "markdown",
   "id": "2f475d43",
   "metadata": {},
   "source": [
    "##### 7 - Second try prediccionts text Classification"
   ]
  },
  {
   "cell_type": "code",
   "execution_count": 34,
   "id": "c0739853",
   "metadata": {},
   "outputs": [
    {
     "name": "stdout",
     "output_type": "stream",
     "text": [
      "['spam', 'ham', 'spam']\n"
     ]
    }
   ],
   "source": [
    "new_texts = [\"Click the following link if you want to recive 8000$ cash now \",\n",
    "             \"Hi Juan, how are you ? do you kno something from Erika ?\",\n",
    "             \"if you want to be rich, send be rich at the 999 0000\"]\n",
    "docs = [nlp.tokenizer(text) for text in new_texts]\n",
    "    \n",
    "scores = textcat.predict(docs)\n",
    "predicted_labels = scores.argmax(axis=1)\n",
    "print([textcat.labels[label] for label in predicted_labels])"
   ]
  },
  {
   "cell_type": "markdown",
   "id": "f5239b38",
   "metadata": {},
   "source": [
    "##### 8 - Conclusions:\n",
    "As we can see it has classified correctly after the process of relabelling new data with similar content."
   ]
  }
 ],
 "metadata": {
  "kernelspec": {
   "display_name": "Python 3 (ipykernel)",
   "language": "python",
   "name": "python3"
  },
  "language_info": {
   "codemirror_mode": {
    "name": "ipython",
    "version": 3
   },
   "file_extension": ".py",
   "mimetype": "text/x-python",
   "name": "python",
   "nbconvert_exporter": "python",
   "pygments_lexer": "ipython3",
   "version": "3.9.13"
  }
 },
 "nbformat": 4,
 "nbformat_minor": 5
}
